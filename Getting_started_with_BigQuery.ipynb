{
  "nbformat": 4,
  "nbformat_minor": 0,
  "metadata": {
    "colab": {
      "name": "Getting started with BigQuery",
      "provenance": [],
      "collapsed_sections": [],
      "include_colab_link": true
    },
    "kernelspec": {
      "display_name": "Python 3",
      "name": "python3"
    }
  },
  "cells": [
    {
      "cell_type": "markdown",
      "metadata": {
        "id": "view-in-github",
        "colab_type": "text"
      },
      "source": [
        "<a href=\"https://colab.research.google.com/github/nspgav/AFI-project/blob/master/Getting_started_with_BigQuery.ipynb\" target=\"_parent\"><img src=\"https://colab.research.google.com/assets/colab-badge.svg\" alt=\"Open In Colab\"/></a>"
      ]
    },
    {
      "cell_type": "markdown",
      "metadata": {
        "colab_type": "text",
        "id": "KcAZ2RHCg_Ze"
      },
      "source": [
        "# Before you begin\n",
        "\n",
        "\n",
        "1.   Use the [Cloud Resource Manager](https://console.cloud.google.com/cloud-resource-manager) to Create a Cloud Platform project if you do not already have one.\n",
        "2.   [Enable billing](https://support.google.com/cloud/answer/6293499#enable-billing) for the project.\n",
        "3.   [Enable BigQuery](https://console.cloud.google.com/flows/enableapi?apiid=bigquery) APIs for the project.\n"
      ]
    },
    {
      "cell_type": "markdown",
      "metadata": {
        "colab_type": "text",
        "id": "qTmLBxDxBAZL"
      },
      "source": [
        "### Provide your credentials to the runtime"
      ]
    },
    {
      "cell_type": "code",
      "metadata": {
        "colab_type": "code",
        "id": "SeTJb51SKs_W",
        "colab": {
          "base_uri": "https://localhost:8080/",
          "height": 34
        },
        "outputId": "7671080f-8ec2-47fb-a6c1-95261231f77c"
      },
      "source": [
        "from google.colab import auth\n",
        "auth.authenticate_user()\n",
        "print('Authenticated')"
      ],
      "execution_count": null,
      "outputs": [
        {
          "output_type": "stream",
          "text": [
            "Authenticated\n"
          ],
          "name": "stdout"
        }
      ]
    },
    {
      "cell_type": "markdown",
      "metadata": {
        "colab_type": "text",
        "id": "UMKGkkZEPVRu"
      },
      "source": [
        "## Optional: Enable data table display\n",
        "\n",
        "Colab includes the ``google.colab.data_table`` package that can be used to display large pandas dataframes as an interactive data table.\n",
        "It can be enabled with:"
      ]
    },
    {
      "cell_type": "code",
      "metadata": {
        "colab_type": "code",
        "id": "LMNA-vBHPyHz",
        "colab": {}
      },
      "source": [
        "%load_ext google.colab.data_table"
      ],
      "execution_count": null,
      "outputs": []
    },
    {
      "cell_type": "markdown",
      "metadata": {
        "colab_type": "text",
        "id": "y7QuudxdP0jH"
      },
      "source": [
        "If you would prefer to return to the classic Pandas dataframe display, you can disable this by running:\n",
        "```python\n",
        "%unload_ext google.colab.data_table\n",
        "```"
      ]
    },
    {
      "cell_type": "markdown",
      "metadata": {
        "colab_type": "text",
        "id": "OHCBQv4uTCPc"
      },
      "source": [
        "# Use BigQuery via magics\n",
        "\n",
        "The `google.cloud.bigquery` library also includes a magic command which runs a query and either displays the result or saves it to a variable as a `DataFrame`."
      ]
    },
    {
      "cell_type": "code",
      "metadata": {
        "colab_type": "code",
        "id": "DMxOKQ3vJplj",
        "colab": {
          "base_uri": "https://localhost:8080/",
          "height": 108
        },
        "outputId": "124a3976-f5ad-49a3-8906-a9ce78b077b9"
      },
      "source": [
        "# Display query output immediately\n",
        "\n",
        "%%bigquery --project ne-fprt-data-cloud-production\n",
        "SELECT \n",
        "  COUNT(*) as total_rows\n",
        "FROM `fp_ia.fp_ia_chot_doc_main`"
      ],
      "execution_count": null,
      "outputs": [
        {
          "output_type": "execute_result",
          "data": {
            "application/vnd.google.colaboratory.module+javascript": "\n      import \"https://ssl.gstatic.com/colaboratory/data_table/a6224c040fa35dcf/data_table.js\";\n\n      window.createDataTable({\n        data: [[{\n            'v': 0,\n            'f': \"0\",\n        },\n{\n            'v': 326,\n            'f': \"326\",\n        }]],\n        columns: [[\"number\", \"index\"], [\"number\", \"total_rows\"]],\n        columnOptions: [{\"width\": \"1px\", \"className\": \"index_column\"}],\n        rowsPerPage: 25,\n        helpUrl: \"https://colab.research.google.com/notebooks/data_table.ipynb\",\n        suppressOutputScrolling: true,\n        minimumWidth: undefined,\n      });\n    ",
            "text/html": [
              "<div>\n",
              "<style scoped>\n",
              "    .dataframe tbody tr th:only-of-type {\n",
              "        vertical-align: middle;\n",
              "    }\n",
              "\n",
              "    .dataframe tbody tr th {\n",
              "        vertical-align: top;\n",
              "    }\n",
              "\n",
              "    .dataframe thead th {\n",
              "        text-align: right;\n",
              "    }\n",
              "</style>\n",
              "<table border=\"1\" class=\"dataframe\">\n",
              "  <thead>\n",
              "    <tr style=\"text-align: right;\">\n",
              "      <th></th>\n",
              "      <th>total_rows</th>\n",
              "    </tr>\n",
              "  </thead>\n",
              "  <tbody>\n",
              "    <tr>\n",
              "      <th>0</th>\n",
              "      <td>326</td>\n",
              "    </tr>\n",
              "  </tbody>\n",
              "</table>\n",
              "</div>"
            ],
            "text/plain": [
              "   total_rows\n",
              "0         326"
            ]
          },
          "metadata": {
            "tags": []
          },
          "execution_count": 14
        }
      ]
    },
    {
      "cell_type": "code",
      "metadata": {
        "colab_type": "code",
        "id": "cLh05lDpJ4wj",
        "colab": {}
      },
      "source": [
        "# Save output in a variable `df`\n",
        "\n",
        "%%bigquery --project yourprojectid df\n",
        "SELECT \n",
        "  COUNT(*) as total_rows\n",
        "FROM `bigquery-public-data.samples.gsod`"
      ],
      "execution_count": null,
      "outputs": []
    },
    {
      "cell_type": "code",
      "metadata": {
        "colab_type": "code",
        "id": "xgopBClCKs_0",
        "colab": {
          "base_uri": "https://localhost:8080/",
          "height": 110
        },
        "outputId": "cd645873-f3f1-413a-95ef-2b32c4928460"
      },
      "source": [
        "df"
      ],
      "execution_count": null,
      "outputs": [
        {
          "output_type": "execute_result",
          "data": {
            "application/vnd.google.colaboratory.module+javascript": "\n      import \"https://ssl.gstatic.com/colaboratory/data_table/a036b366c3cace79/data_table.js\";\n\n      window.createDataTable({\n        data: [[{\n            'v': 0,\n            'f': \"0\",\n        },\n{\n            'v': 114420316,\n            'f': \"114420316\",\n        }]],\n        columns: [[\"number\", \"index\"], [\"number\", \"total_rows\"]],\n        rowsPerPage: 25,\n        helpUrl: \"https://colab.research.google.com/notebooks/data_table.ipynb\",\n      });\n    ",
            "text/html": [
              "<div>\n",
              "<style scoped>\n",
              "    .dataframe tbody tr th:only-of-type {\n",
              "        vertical-align: middle;\n",
              "    }\n",
              "\n",
              "    .dataframe tbody tr th {\n",
              "        vertical-align: top;\n",
              "    }\n",
              "\n",
              "    .dataframe thead th {\n",
              "        text-align: right;\n",
              "    }\n",
              "</style>\n",
              "<table border=\"1\" class=\"dataframe\">\n",
              "  <thead>\n",
              "    <tr style=\"text-align: right;\">\n",
              "      <th></th>\n",
              "      <th>total_rows</th>\n",
              "    </tr>\n",
              "  </thead>\n",
              "  <tbody>\n",
              "    <tr>\n",
              "      <th>0</th>\n",
              "      <td>114420316</td>\n",
              "    </tr>\n",
              "  </tbody>\n",
              "</table>\n",
              "</div>"
            ],
            "text/plain": [
              "   total_rows\n",
              "0   114420316"
            ]
          },
          "metadata": {
            "tags": []
          },
          "execution_count": 0
        }
      ]
    },
    {
      "cell_type": "markdown",
      "metadata": {
        "colab_type": "text",
        "id": "fkhbyGaXKs_6"
      },
      "source": [
        "# Use BigQuery through google-cloud-bigquery\n",
        "\n",
        "See [BigQuery documentation](https://cloud.google.com/bigquery/docs) and [library reference documentation](https://googlecloudplatform.github.io/google-cloud-python/latest/bigquery/usage.html).\n",
        "\n",
        "The [GSOD sample table](https://bigquery.cloud.google.com/table/bigquery-public-data:samples.gsod) contains weather information collected by NOAA, such as precipitation amounts and wind speeds from late 1929 to early 2010.\n"
      ]
    },
    {
      "cell_type": "markdown",
      "metadata": {
        "colab_type": "text",
        "id": "goQQ96EDKs_7"
      },
      "source": [
        "### Declare the Cloud project ID which will be used throughout this notebook"
      ]
    },
    {
      "cell_type": "code",
      "metadata": {
        "colab_type": "code",
        "id": "hWK0nJWgKs_8",
        "colab": {}
      },
      "source": [
        "project_id = 'ne-fprt-data-cloud-production'"
      ],
      "execution_count": null,
      "outputs": []
    },
    {
      "cell_type": "markdown",
      "metadata": {
        "colab_type": "text",
        "id": "lK-9fSClKtAB"
      },
      "source": [
        "### Sample approximately 2000 random rows"
      ]
    },
    {
      "cell_type": "code",
      "metadata": {
        "colab_type": "code",
        "id": "ONI1Xo0-KtAD",
        "colab": {
          "base_uri": "https://localhost:8080/",
          "height": 34
        },
        "outputId": "d564496a-bd66-4356-81ea-9bd985e8bd9f"
      },
      "source": [
        "from google.cloud import bigquery\n",
        "\n",
        "client = bigquery.Client(project=project_id)\n",
        "\n",
        "sample_count = 100\n",
        "row_count = client.query('''\n",
        "  SELECT \n",
        "    COUNT(*) as total\n",
        "  FROM `fp_ia.fp_ia_chot_doc_main`''').to_dataframe().total[0]\n",
        "\n",
        "df = client.query('''\n",
        "  SELECT\n",
        "    *\n",
        "  FROM\n",
        "    `fp_ia.fp_ia_chot_doc_main`\n",
        "  WHERE RAND() < %d/%d\n",
        "''' % (sample_count, row_count)).to_dataframe()\n",
        "\n",
        "print('Full dataset has %d rows' % row_count)"
      ],
      "execution_count": null,
      "outputs": [
        {
          "output_type": "stream",
          "text": [
            "Full dataset has 326 rows\n"
          ],
          "name": "stdout"
        }
      ]
    },
    {
      "cell_type": "markdown",
      "metadata": {
        "colab_type": "text",
        "id": "Bu2C7iWMKtAM"
      },
      "source": [
        "### Describe the sampled data"
      ]
    },
    {
      "cell_type": "code",
      "metadata": {
        "colab_type": "code",
        "id": "XrFmZBr9KtAN",
        "colab": {
          "base_uri": "https://localhost:8080/",
          "height": 248
        },
        "outputId": "8c7926e0-0ef9-4e7e-81b8-61699e363e57"
      },
      "source": [
        "df.describe()"
      ],
      "execution_count": null,
      "outputs": [
        {
          "output_type": "execute_result",
          "data": {
            "application/vnd.google.colaboratory.module+javascript": "\n      import \"https://ssl.gstatic.com/colaboratory/data_table/a6224c040fa35dcf/data_table.js\";\n\n      window.createDataTable({\n        data: [[\"count\",\n{\n            'v': 105.0,\n            'f': \"105.0\",\n        },\n{\n            'v': 105.0,\n            'f': \"105.0\",\n        }],\n [\"mean\",\n{\n            'v': 5352.27619047619,\n            'f': \"5352.27619047619\",\n        },\n{\n            'v': 3.8380952380952382,\n            'f': \"3.8380952380952382\",\n        }],\n [\"std\",\n{\n            'v': 2964.7222677526515,\n            'f': \"2964.7222677526515\",\n        },\n{\n            'v': 5.486213156498281,\n            'f': \"5.486213156498281\",\n        }],\n [\"min\",\n{\n            'v': 10.0,\n            'f': \"10.0\",\n        },\n{\n            'v': 1.0,\n            'f': \"1.0\",\n        }],\n [\"25%\",\n{\n            'v': 2831.0,\n            'f': \"2831.0\",\n        },\n{\n            'v': 1.0,\n            'f': \"1.0\",\n        }],\n [\"50%\",\n{\n            'v': 6479.0,\n            'f': \"6479.0\",\n        },\n{\n            'v': 2.0,\n            'f': \"2.0\",\n        }],\n [\"75%\",\n{\n            'v': 8087.0,\n            'f': \"8087.0\",\n        },\n{\n            'v': 4.0,\n            'f': \"4.0\",\n        }],\n [\"max\",\n{\n            'v': 9776.0,\n            'f': \"9776.0\",\n        },\n{\n            'v': 29.0,\n            'f': \"29.0\",\n        }]],\n        columns: [[\"string\", \"index\"], [\"number\", \"transaction_num\"], [\"number\", \"pos_number\"]],\n        columnOptions: [{\"width\": \"1px\", \"className\": \"index_column\"}],\n        rowsPerPage: 25,\n        helpUrl: \"https://colab.research.google.com/notebooks/data_table.ipynb\",\n        suppressOutputScrolling: true,\n        minimumWidth: undefined,\n      });\n    ",
            "text/html": [
              "<div>\n",
              "<style scoped>\n",
              "    .dataframe tbody tr th:only-of-type {\n",
              "        vertical-align: middle;\n",
              "    }\n",
              "\n",
              "    .dataframe tbody tr th {\n",
              "        vertical-align: top;\n",
              "    }\n",
              "\n",
              "    .dataframe thead th {\n",
              "        text-align: right;\n",
              "    }\n",
              "</style>\n",
              "<table border=\"1\" class=\"dataframe\">\n",
              "  <thead>\n",
              "    <tr style=\"text-align: right;\">\n",
              "      <th></th>\n",
              "      <th>transaction_num</th>\n",
              "      <th>pos_number</th>\n",
              "    </tr>\n",
              "  </thead>\n",
              "  <tbody>\n",
              "    <tr>\n",
              "      <th>count</th>\n",
              "      <td>105.000000</td>\n",
              "      <td>105.000000</td>\n",
              "    </tr>\n",
              "    <tr>\n",
              "      <th>mean</th>\n",
              "      <td>5352.276190</td>\n",
              "      <td>3.838095</td>\n",
              "    </tr>\n",
              "    <tr>\n",
              "      <th>std</th>\n",
              "      <td>2964.722268</td>\n",
              "      <td>5.486213</td>\n",
              "    </tr>\n",
              "    <tr>\n",
              "      <th>min</th>\n",
              "      <td>10.000000</td>\n",
              "      <td>1.000000</td>\n",
              "    </tr>\n",
              "    <tr>\n",
              "      <th>25%</th>\n",
              "      <td>2831.000000</td>\n",
              "      <td>1.000000</td>\n",
              "    </tr>\n",
              "    <tr>\n",
              "      <th>50%</th>\n",
              "      <td>6479.000000</td>\n",
              "      <td>2.000000</td>\n",
              "    </tr>\n",
              "    <tr>\n",
              "      <th>75%</th>\n",
              "      <td>8087.000000</td>\n",
              "      <td>4.000000</td>\n",
              "    </tr>\n",
              "    <tr>\n",
              "      <th>max</th>\n",
              "      <td>9776.000000</td>\n",
              "      <td>29.000000</td>\n",
              "    </tr>\n",
              "  </tbody>\n",
              "</table>\n",
              "</div>"
            ],
            "text/plain": [
              "       transaction_num  pos_number\n",
              "count       105.000000  105.000000\n",
              "mean       5352.276190    3.838095\n",
              "std        2964.722268    5.486213\n",
              "min          10.000000    1.000000\n",
              "25%        2831.000000    1.000000\n",
              "50%        6479.000000    2.000000\n",
              "75%        8087.000000    4.000000\n",
              "max        9776.000000   29.000000"
            ]
          },
          "metadata": {
            "tags": []
          },
          "execution_count": 13
        }
      ]
    },
    {
      "cell_type": "markdown",
      "metadata": {
        "colab_type": "text",
        "id": "SVWFp6jIKtAa"
      },
      "source": [
        "### View the first 10 rows"
      ]
    },
    {
      "cell_type": "code",
      "metadata": {
        "colab_type": "code",
        "id": "hEYIhPvAKtAd",
        "colab": {
          "base_uri": "https://localhost:8080/",
          "height": 608
        },
        "outputId": "25c91b6c-7aa2-4b1f-a992-f71c0c3bc347"
      },
      "source": [
        "df.head(10)"
      ],
      "execution_count": null,
      "outputs": [
        {
          "output_type": "execute_result",
          "data": {
            "application/vnd.google.colaboratory.module+javascript": "\n      import \"https://ssl.gstatic.com/colaboratory/data_table/a6224c040fa35dcf/data_table.js\";\n\n      window.createDataTable({\n        data: [[{\n            'v': 0,\n            'f': \"0\",\n        },\n\"CHOT-120620-431-2250\",\n\"2020-06-12\",\n\"2020-06-12 17:16:45+00:00\",\n{\n            'v': 2250,\n            'f': \"2250\",\n        },\n\"431\",\n\"Compassvale Link\",\n\"21989\",\n\"NG SIEW HONG\",\n{\n            'v': 2,\n            'f': \"2\",\n        },\n{\n            'v': \"-7.95\",\n            'f': \"\\\"-7.95\\\"\",\n        },\n\"Open\",\n{\n            'v': null,\n            'f': \"null\",\n        },\n{\n            'v': null,\n            'f': \"null\",\n        },\n{\n            'v': null,\n            'f': \"null\",\n        },\n{\n            'v': null,\n            'f': \"null\",\n        }],\n [{\n            'v': 1,\n            'f': \"1\",\n        },\n\"CHOT-230520-363-6485\",\n\"2020-05-23\",\n\"2020-05-23 07:01:23+00:00\",\n{\n            'v': 6485,\n            'f': \"6485\",\n        },\n\"363\",\n\"Taman Jurong\",\n\"1060432\",\n\"GOH WEI ZHAO\",\n{\n            'v': 4,\n            'f': \"4\",\n        },\n{\n            'v': \"33.7\",\n            'f': \"\\\"33.7\\\"\",\n        },\n\"Open\",\n{\n            'v': null,\n            'f': \"null\",\n        },\n{\n            'v': null,\n            'f': \"null\",\n        },\n{\n            'v': null,\n            'f': \"null\",\n        },\n{\n            'v': null,\n            'f': \"null\",\n        }],\n [{\n            'v': 2,\n            'f': \"2\",\n        },\n\"CHOT-220520-363-9139\",\n\"2020-05-22\",\n\"2020-05-22 10:51:27+00:00\",\n{\n            'v': 9139,\n            'f': \"9139\",\n        },\n\"363\",\n\"Taman Jurong\",\n\"1060432\",\n\"GOH WEI ZHAO\",\n{\n            'v': 1,\n            'f': \"1\",\n        },\n{\n            'v': \"46.82\",\n            'f': \"\\\"46.82\\\"\",\n        },\n\"Open\",\n{\n            'v': null,\n            'f': \"null\",\n        },\n{\n            'v': null,\n            'f': \"null\",\n        },\n{\n            'v': null,\n            'f': \"null\",\n        },\n{\n            'v': null,\n            'f': \"null\",\n        }],\n [{\n            'v': 3,\n            'f': \"3\",\n        },\n\"CHOT-230520-363-6515\",\n\"2020-05-23\",\n\"2020-05-23 07:43:28+00:00\",\n{\n            'v': 6515,\n            'f': \"6515\",\n        },\n\"363\",\n\"Taman Jurong\",\n\"1060432\",\n\"GOH WEI ZHAO\",\n{\n            'v': 4,\n            'f': \"4\",\n        },\n{\n            'v': \"55.25\",\n            'f': \"\\\"55.25\\\"\",\n        },\n\"Open\",\n{\n            'v': null,\n            'f': \"null\",\n        },\n{\n            'v': null,\n            'f': \"null\",\n        },\n{\n            'v': null,\n            'f': \"null\",\n        },\n{\n            'v': null,\n            'f': \"null\",\n        }],\n [{\n            'v': 4,\n            'f': \"4\",\n        },\n\"CHOT-220520-363-9167\",\n\"2020-05-22\",\n\"2020-05-22 11:59:46+00:00\",\n{\n            'v': 9167,\n            'f': \"9167\",\n        },\n\"363\",\n\"Taman Jurong\",\n\"1060432\",\n\"GOH WEI ZHAO\",\n{\n            'v': 1,\n            'f': \"1\",\n        },\n{\n            'v': \"114.4\",\n            'f': \"\\\"114.4\\\"\",\n        },\n\"Open\",\n{\n            'v': null,\n            'f': \"null\",\n        },\n{\n            'v': null,\n            'f': \"null\",\n        },\n{\n            'v': null,\n            'f': \"null\",\n        },\n{\n            'v': null,\n            'f': \"null\",\n        }],\n [{\n            'v': 5,\n            'f': \"5\",\n        },\n\"CHOT-230520-363-6561\",\n\"2020-05-23\",\n\"2020-05-23 08:53:16+00:00\",\n{\n            'v': 6561,\n            'f': \"6561\",\n        },\n\"363\",\n\"Taman Jurong\",\n\"1060432\",\n\"GOH WEI ZHAO\",\n{\n            'v': 4,\n            'f': \"4\",\n        },\n{\n            'v': \"39.75\",\n            'f': \"\\\"39.75\\\"\",\n        },\n\"Open\",\n{\n            'v': null,\n            'f': \"null\",\n        },\n{\n            'v': null,\n            'f': \"null\",\n        },\n{\n            'v': null,\n            'f': \"null\",\n        },\n{\n            'v': null,\n            'f': \"null\",\n        }],\n [{\n            'v': 6,\n            'f': \"6\",\n        },\n\"CHOT-230520-363-6510\",\n\"2020-05-23\",\n\"2020-05-23 07:32:12+00:00\",\n{\n            'v': 6510,\n            'f': \"6510\",\n        },\n\"363\",\n\"Taman Jurong\",\n\"1060432\",\n\"GOH WEI ZHAO\",\n{\n            'v': 4,\n            'f': \"4\",\n        },\n{\n            'v': \"8.3\",\n            'f': \"\\\"8.3\\\"\",\n        },\n\"Open\",\n{\n            'v': null,\n            'f': \"null\",\n        },\n{\n            'v': null,\n            'f': \"null\",\n        },\n{\n            'v': null,\n            'f': \"null\",\n        },\n{\n            'v': null,\n            'f': \"null\",\n        }],\n [{\n            'v': 7,\n            'f': \"7\",\n        },\n\"CHOT-220520-363-9121\",\n\"2020-05-22\",\n\"2020-05-22 10:25:57+00:00\",\n{\n            'v': 9121,\n            'f': \"9121\",\n        },\n\"363\",\n\"Taman Jurong\",\n\"1060432\",\n\"GOH WEI ZHAO\",\n{\n            'v': 1,\n            'f': \"1\",\n        },\n{\n            'v': \"41.39\",\n            'f': \"\\\"41.39\\\"\",\n        },\n\"Open\",\n{\n            'v': null,\n            'f': \"null\",\n        },\n{\n            'v': null,\n            'f': \"null\",\n        },\n{\n            'v': null,\n            'f': \"null\",\n        },\n{\n            'v': null,\n            'f': \"null\",\n        }],\n [{\n            'v': 8,\n            'f': \"8\",\n        },\n\"CHOT-220520-363-9075\",\n\"2020-05-22\",\n\"2020-05-22 09:16:33+00:00\",\n{\n            'v': 9075,\n            'f': \"9075\",\n        },\n\"363\",\n\"Taman Jurong\",\n\"1060432\",\n\"GOH WEI ZHAO\",\n{\n            'v': 1,\n            'f': \"1\",\n        },\n{\n            'v': \"41.4\",\n            'f': \"\\\"41.4\\\"\",\n        },\n\"Open\",\n{\n            'v': null,\n            'f': \"null\",\n        },\n{\n            'v': null,\n            'f': \"null\",\n        },\n{\n            'v': null,\n            'f': \"null\",\n        },\n{\n            'v': null,\n            'f': \"null\",\n        }],\n [{\n            'v': 9,\n            'f': \"9\",\n        },\n\"CHOT-220520-363-9147\",\n\"2020-05-22\",\n\"2020-05-22 11:02:08+00:00\",\n{\n            'v': 9147,\n            'f': \"9147\",\n        },\n\"363\",\n\"Taman Jurong\",\n\"1060432\",\n\"GOH WEI ZHAO\",\n{\n            'v': 1,\n            'f': \"1\",\n        },\n{\n            'v': \"60.35\",\n            'f': \"\\\"60.35\\\"\",\n        },\n\"Open\",\n{\n            'v': null,\n            'f': \"null\",\n        },\n{\n            'v': null,\n            'f': \"null\",\n        },\n{\n            'v': null,\n            'f': \"null\",\n        },\n{\n            'v': null,\n            'f': \"null\",\n        }]],\n        columns: [[\"number\", \"index\"], [\"string\", \"doc_ref\"], [\"string\", \"business_date\"], [\"string\", \"transaction_date\"], [\"number\", \"transaction_num\"], [\"string\", \"store_id\"], [\"string\", \"store_name\"], [\"string\", \"cashier_emp_id\"], [\"string\", \"cashier_name\"], [\"number\", \"pos_number\"], [\"number\", \"purchase_amt\"], [\"string\", \"doc_status\"], [\"number\", \"finding\"], [\"number\", \"action_taken\"], [\"number\", \"remarks\"], [\"number\", \"ia_remarks\"]],\n        columnOptions: [{\"width\": \"1px\", \"className\": \"index_column\"}],\n        rowsPerPage: 25,\n        helpUrl: \"https://colab.research.google.com/notebooks/data_table.ipynb\",\n        suppressOutputScrolling: true,\n        minimumWidth: undefined,\n      });\n    ",
            "text/html": [
              "<div>\n",
              "<style scoped>\n",
              "    .dataframe tbody tr th:only-of-type {\n",
              "        vertical-align: middle;\n",
              "    }\n",
              "\n",
              "    .dataframe tbody tr th {\n",
              "        vertical-align: top;\n",
              "    }\n",
              "\n",
              "    .dataframe thead th {\n",
              "        text-align: right;\n",
              "    }\n",
              "</style>\n",
              "<table border=\"1\" class=\"dataframe\">\n",
              "  <thead>\n",
              "    <tr style=\"text-align: right;\">\n",
              "      <th></th>\n",
              "      <th>doc_ref</th>\n",
              "      <th>business_date</th>\n",
              "      <th>transaction_date</th>\n",
              "      <th>transaction_num</th>\n",
              "      <th>store_id</th>\n",
              "      <th>store_name</th>\n",
              "      <th>cashier_emp_id</th>\n",
              "      <th>cashier_name</th>\n",
              "      <th>pos_number</th>\n",
              "      <th>purchase_amt</th>\n",
              "      <th>doc_status</th>\n",
              "      <th>finding</th>\n",
              "      <th>action_taken</th>\n",
              "      <th>remarks</th>\n",
              "      <th>ia_remarks</th>\n",
              "    </tr>\n",
              "  </thead>\n",
              "  <tbody>\n",
              "    <tr>\n",
              "      <th>0</th>\n",
              "      <td>CHOT-120620-431-2250</td>\n",
              "      <td>2020-06-12</td>\n",
              "      <td>2020-06-12 17:16:45+00:00</td>\n",
              "      <td>2250</td>\n",
              "      <td>431</td>\n",
              "      <td>Compassvale Link</td>\n",
              "      <td>21989</td>\n",
              "      <td>NG SIEW HONG</td>\n",
              "      <td>2</td>\n",
              "      <td>-7.95</td>\n",
              "      <td>Open</td>\n",
              "      <td>None</td>\n",
              "      <td>None</td>\n",
              "      <td>None</td>\n",
              "      <td>None</td>\n",
              "    </tr>\n",
              "    <tr>\n",
              "      <th>1</th>\n",
              "      <td>CHOT-230520-363-6485</td>\n",
              "      <td>2020-05-23</td>\n",
              "      <td>2020-05-23 07:01:23+00:00</td>\n",
              "      <td>6485</td>\n",
              "      <td>363</td>\n",
              "      <td>Taman Jurong</td>\n",
              "      <td>1060432</td>\n",
              "      <td>GOH WEI ZHAO</td>\n",
              "      <td>4</td>\n",
              "      <td>33.7</td>\n",
              "      <td>Open</td>\n",
              "      <td>None</td>\n",
              "      <td>None</td>\n",
              "      <td>None</td>\n",
              "      <td>None</td>\n",
              "    </tr>\n",
              "    <tr>\n",
              "      <th>2</th>\n",
              "      <td>CHOT-220520-363-9139</td>\n",
              "      <td>2020-05-22</td>\n",
              "      <td>2020-05-22 10:51:27+00:00</td>\n",
              "      <td>9139</td>\n",
              "      <td>363</td>\n",
              "      <td>Taman Jurong</td>\n",
              "      <td>1060432</td>\n",
              "      <td>GOH WEI ZHAO</td>\n",
              "      <td>1</td>\n",
              "      <td>46.82</td>\n",
              "      <td>Open</td>\n",
              "      <td>None</td>\n",
              "      <td>None</td>\n",
              "      <td>None</td>\n",
              "      <td>None</td>\n",
              "    </tr>\n",
              "    <tr>\n",
              "      <th>3</th>\n",
              "      <td>CHOT-230520-363-6515</td>\n",
              "      <td>2020-05-23</td>\n",
              "      <td>2020-05-23 07:43:28+00:00</td>\n",
              "      <td>6515</td>\n",
              "      <td>363</td>\n",
              "      <td>Taman Jurong</td>\n",
              "      <td>1060432</td>\n",
              "      <td>GOH WEI ZHAO</td>\n",
              "      <td>4</td>\n",
              "      <td>55.25</td>\n",
              "      <td>Open</td>\n",
              "      <td>None</td>\n",
              "      <td>None</td>\n",
              "      <td>None</td>\n",
              "      <td>None</td>\n",
              "    </tr>\n",
              "    <tr>\n",
              "      <th>4</th>\n",
              "      <td>CHOT-220520-363-9167</td>\n",
              "      <td>2020-05-22</td>\n",
              "      <td>2020-05-22 11:59:46+00:00</td>\n",
              "      <td>9167</td>\n",
              "      <td>363</td>\n",
              "      <td>Taman Jurong</td>\n",
              "      <td>1060432</td>\n",
              "      <td>GOH WEI ZHAO</td>\n",
              "      <td>1</td>\n",
              "      <td>114.4</td>\n",
              "      <td>Open</td>\n",
              "      <td>None</td>\n",
              "      <td>None</td>\n",
              "      <td>None</td>\n",
              "      <td>None</td>\n",
              "    </tr>\n",
              "    <tr>\n",
              "      <th>5</th>\n",
              "      <td>CHOT-230520-363-6561</td>\n",
              "      <td>2020-05-23</td>\n",
              "      <td>2020-05-23 08:53:16+00:00</td>\n",
              "      <td>6561</td>\n",
              "      <td>363</td>\n",
              "      <td>Taman Jurong</td>\n",
              "      <td>1060432</td>\n",
              "      <td>GOH WEI ZHAO</td>\n",
              "      <td>4</td>\n",
              "      <td>39.75</td>\n",
              "      <td>Open</td>\n",
              "      <td>None</td>\n",
              "      <td>None</td>\n",
              "      <td>None</td>\n",
              "      <td>None</td>\n",
              "    </tr>\n",
              "    <tr>\n",
              "      <th>6</th>\n",
              "      <td>CHOT-230520-363-6510</td>\n",
              "      <td>2020-05-23</td>\n",
              "      <td>2020-05-23 07:32:12+00:00</td>\n",
              "      <td>6510</td>\n",
              "      <td>363</td>\n",
              "      <td>Taman Jurong</td>\n",
              "      <td>1060432</td>\n",
              "      <td>GOH WEI ZHAO</td>\n",
              "      <td>4</td>\n",
              "      <td>8.3</td>\n",
              "      <td>Open</td>\n",
              "      <td>None</td>\n",
              "      <td>None</td>\n",
              "      <td>None</td>\n",
              "      <td>None</td>\n",
              "    </tr>\n",
              "    <tr>\n",
              "      <th>7</th>\n",
              "      <td>CHOT-220520-363-9121</td>\n",
              "      <td>2020-05-22</td>\n",
              "      <td>2020-05-22 10:25:57+00:00</td>\n",
              "      <td>9121</td>\n",
              "      <td>363</td>\n",
              "      <td>Taman Jurong</td>\n",
              "      <td>1060432</td>\n",
              "      <td>GOH WEI ZHAO</td>\n",
              "      <td>1</td>\n",
              "      <td>41.39</td>\n",
              "      <td>Open</td>\n",
              "      <td>None</td>\n",
              "      <td>None</td>\n",
              "      <td>None</td>\n",
              "      <td>None</td>\n",
              "    </tr>\n",
              "    <tr>\n",
              "      <th>8</th>\n",
              "      <td>CHOT-220520-363-9075</td>\n",
              "      <td>2020-05-22</td>\n",
              "      <td>2020-05-22 09:16:33+00:00</td>\n",
              "      <td>9075</td>\n",
              "      <td>363</td>\n",
              "      <td>Taman Jurong</td>\n",
              "      <td>1060432</td>\n",
              "      <td>GOH WEI ZHAO</td>\n",
              "      <td>1</td>\n",
              "      <td>41.4</td>\n",
              "      <td>Open</td>\n",
              "      <td>None</td>\n",
              "      <td>None</td>\n",
              "      <td>None</td>\n",
              "      <td>None</td>\n",
              "    </tr>\n",
              "    <tr>\n",
              "      <th>9</th>\n",
              "      <td>CHOT-220520-363-9147</td>\n",
              "      <td>2020-05-22</td>\n",
              "      <td>2020-05-22 11:02:08+00:00</td>\n",
              "      <td>9147</td>\n",
              "      <td>363</td>\n",
              "      <td>Taman Jurong</td>\n",
              "      <td>1060432</td>\n",
              "      <td>GOH WEI ZHAO</td>\n",
              "      <td>1</td>\n",
              "      <td>60.35</td>\n",
              "      <td>Open</td>\n",
              "      <td>None</td>\n",
              "      <td>None</td>\n",
              "      <td>None</td>\n",
              "      <td>None</td>\n",
              "    </tr>\n",
              "  </tbody>\n",
              "</table>\n",
              "</div>"
            ],
            "text/plain": [
              "                doc_ref business_date  ... remarks  ia_remarks\n",
              "0  CHOT-120620-431-2250    2020-06-12  ...    None        None\n",
              "1  CHOT-230520-363-6485    2020-05-23  ...    None        None\n",
              "2  CHOT-220520-363-9139    2020-05-22  ...    None        None\n",
              "3  CHOT-230520-363-6515    2020-05-23  ...    None        None\n",
              "4  CHOT-220520-363-9167    2020-05-22  ...    None        None\n",
              "5  CHOT-230520-363-6561    2020-05-23  ...    None        None\n",
              "6  CHOT-230520-363-6510    2020-05-23  ...    None        None\n",
              "7  CHOT-220520-363-9121    2020-05-22  ...    None        None\n",
              "8  CHOT-220520-363-9075    2020-05-22  ...    None        None\n",
              "9  CHOT-220520-363-9147    2020-05-22  ...    None        None\n",
              "\n",
              "[10 rows x 15 columns]"
            ]
          },
          "metadata": {
            "tags": []
          },
          "execution_count": 12
        }
      ]
    },
    {
      "cell_type": "code",
      "metadata": {
        "colab_type": "code",
        "id": "1K7weAv6KtAq",
        "colab": {
          "base_uri": "https://localhost:8080/",
          "height": 302
        },
        "outputId": "28df8986-a57c-4eb8-862a-d0dd9f23c6a1"
      },
      "source": [
        "# 10 highest total_precipitation samples\n",
        "df.sort_values('total_precipitation', ascending=False).head(10)[['station_number', 'year', 'month', 'day', 'total_precipitation']]"
      ],
      "execution_count": null,
      "outputs": [
        {
          "output_type": "execute_result",
          "data": {
            "application/vnd.google.colaboratory.module+javascript": "\n      import \"https://ssl.gstatic.com/colaboratory/data_table/a036b366c3cace79/data_table.js\";\n\n      window.createDataTable({\n        data: [[{\n            'v': 644,\n            'f': \"644\",\n        },\n{\n            'v': 230220,\n            'f': \"230220\",\n        },\n{\n            'v': 1964,\n            'f': \"1964\",\n        },\n{\n            'v': 7,\n            'f': \"7\",\n        },\n{\n            'v': 15,\n            'f': \"15\",\n        },\n{\n            'v': 5.909999847412109,\n            'f': \"5.909999847412109\",\n        }],\n [{\n            'v': 1155,\n            'f': \"1155\",\n        },\n{\n            'v': 985430,\n            'f': \"985430\",\n        },\n{\n            'v': 2008,\n            'f': \"2008\",\n        },\n{\n            'v': 12,\n            'f': \"12\",\n        },\n{\n            'v': 8,\n            'f': \"8\",\n        },\n{\n            'v': 3.4600000381469727,\n            'f': \"3.4600000381469727\",\n        }],\n [{\n            'v': 1196,\n            'f': \"1196\",\n        },\n{\n            'v': 248260,\n            'f': \"248260\",\n        },\n{\n            'v': 1961,\n            'f': \"1961\",\n        },\n{\n            'v': 11,\n            'f': \"11\",\n        },\n{\n            'v': 1,\n            'f': \"1\",\n        },\n{\n            'v': 2.950000047683716,\n            'f': \"2.950000047683716\",\n        }],\n [{\n            'v': 1588,\n            'f': \"1588\",\n        },\n{\n            'v': 257670,\n            'f': \"257670\",\n        },\n{\n            'v': 1959,\n            'f': \"1959\",\n        },\n{\n            'v': 8,\n            'f': \"8\",\n        },\n{\n            'v': 9,\n            'f': \"9\",\n        },\n{\n            'v': 2.950000047683716,\n            'f': \"2.950000047683716\",\n        }],\n [{\n            'v': 980,\n            'f': \"980\",\n        },\n{\n            'v': 299150,\n            'f': \"299150\",\n        },\n{\n            'v': 1962,\n            'f': \"1962\",\n        },\n{\n            'v': 3,\n            'f': \"3\",\n        },\n{\n            'v': 1,\n            'f': \"1\",\n        },\n{\n            'v': 2.950000047683716,\n            'f': \"2.950000047683716\",\n        }],\n [{\n            'v': 1325,\n            'f': \"1325\",\n        },\n{\n            'v': 470250,\n            'f': \"470250\",\n        },\n{\n            'v': 1965,\n            'f': \"1965\",\n        },\n{\n            'v': 11,\n            'f': \"11\",\n        },\n{\n            'v': 25,\n            'f': \"25\",\n        },\n{\n            'v': 2.950000047683716,\n            'f': \"2.950000047683716\",\n        }],\n [{\n            'v': 1917,\n            'f': \"1917\",\n        },\n{\n            'v': 288380,\n            'f': \"288380\",\n        },\n{\n            'v': 1994,\n            'f': \"1994\",\n        },\n{\n            'v': 8,\n            'f': \"8\",\n        },\n{\n            'v': 6,\n            'f': \"6\",\n        },\n{\n            'v': 2.319999933242798,\n            'f': \"2.319999933242798\",\n        }],\n [{\n            'v': 1211,\n            'f': \"1211\",\n        },\n{\n            'v': 585190,\n            'f': \"585190\",\n        },\n{\n            'v': 1995,\n            'f': \"1995\",\n        },\n{\n            'v': 4,\n            'f': \"4\",\n        },\n{\n            'v': 14,\n            'f': \"14\",\n        },\n{\n            'v': 2.319999933242798,\n            'f': \"2.319999933242798\",\n        }],\n [{\n            'v': 250,\n            'f': \"250\",\n        },\n{\n            'v': 647000,\n            'f': \"647000\",\n        },\n{\n            'v': 2005,\n            'f': \"2005\",\n        },\n{\n            'v': 8,\n            'f': \"8\",\n        },\n{\n            'v': 19,\n            'f': \"19\",\n        },\n{\n            'v': 2.200000047683716,\n            'f': \"2.200000047683716\",\n        }],\n [{\n            'v': 1418,\n            'f': \"1418\",\n        },\n{\n            'v': 964710,\n            'f': \"964710\",\n        },\n{\n            'v': 1975,\n            'f': \"1975\",\n        },\n{\n            'v': 9,\n            'f': \"9\",\n        },\n{\n            'v': 8,\n            'f': \"8\",\n        },\n{\n            'v': 1.9700000286102295,\n            'f': \"1.9700000286102295\",\n        }]],\n        columns: [[\"number\", \"index\"], [\"number\", \"station_number\"], [\"number\", \"year\"], [\"number\", \"month\"], [\"number\", \"day\"], [\"number\", \"total_precipitation\"]],\n        rowsPerPage: 25,\n        helpUrl: \"https://colab.research.google.com/notebooks/data_table.ipynb\",\n      });\n    ",
            "text/html": [
              "<div>\n",
              "<style scoped>\n",
              "    .dataframe tbody tr th:only-of-type {\n",
              "        vertical-align: middle;\n",
              "    }\n",
              "\n",
              "    .dataframe tbody tr th {\n",
              "        vertical-align: top;\n",
              "    }\n",
              "\n",
              "    .dataframe thead th {\n",
              "        text-align: right;\n",
              "    }\n",
              "</style>\n",
              "<table border=\"1\" class=\"dataframe\">\n",
              "  <thead>\n",
              "    <tr style=\"text-align: right;\">\n",
              "      <th></th>\n",
              "      <th>station_number</th>\n",
              "      <th>year</th>\n",
              "      <th>month</th>\n",
              "      <th>day</th>\n",
              "      <th>total_precipitation</th>\n",
              "    </tr>\n",
              "  </thead>\n",
              "  <tbody>\n",
              "    <tr>\n",
              "      <th>644</th>\n",
              "      <td>230220</td>\n",
              "      <td>1964</td>\n",
              "      <td>7</td>\n",
              "      <td>15</td>\n",
              "      <td>5.91</td>\n",
              "    </tr>\n",
              "    <tr>\n",
              "      <th>1155</th>\n",
              "      <td>985430</td>\n",
              "      <td>2008</td>\n",
              "      <td>12</td>\n",
              "      <td>8</td>\n",
              "      <td>3.46</td>\n",
              "    </tr>\n",
              "    <tr>\n",
              "      <th>1196</th>\n",
              "      <td>248260</td>\n",
              "      <td>1961</td>\n",
              "      <td>11</td>\n",
              "      <td>1</td>\n",
              "      <td>2.95</td>\n",
              "    </tr>\n",
              "    <tr>\n",
              "      <th>1588</th>\n",
              "      <td>257670</td>\n",
              "      <td>1959</td>\n",
              "      <td>8</td>\n",
              "      <td>9</td>\n",
              "      <td>2.95</td>\n",
              "    </tr>\n",
              "    <tr>\n",
              "      <th>980</th>\n",
              "      <td>299150</td>\n",
              "      <td>1962</td>\n",
              "      <td>3</td>\n",
              "      <td>1</td>\n",
              "      <td>2.95</td>\n",
              "    </tr>\n",
              "    <tr>\n",
              "      <th>1325</th>\n",
              "      <td>470250</td>\n",
              "      <td>1965</td>\n",
              "      <td>11</td>\n",
              "      <td>25</td>\n",
              "      <td>2.95</td>\n",
              "    </tr>\n",
              "    <tr>\n",
              "      <th>1917</th>\n",
              "      <td>288380</td>\n",
              "      <td>1994</td>\n",
              "      <td>8</td>\n",
              "      <td>6</td>\n",
              "      <td>2.32</td>\n",
              "    </tr>\n",
              "    <tr>\n",
              "      <th>1211</th>\n",
              "      <td>585190</td>\n",
              "      <td>1995</td>\n",
              "      <td>4</td>\n",
              "      <td>14</td>\n",
              "      <td>2.32</td>\n",
              "    </tr>\n",
              "    <tr>\n",
              "      <th>250</th>\n",
              "      <td>647000</td>\n",
              "      <td>2005</td>\n",
              "      <td>8</td>\n",
              "      <td>19</td>\n",
              "      <td>2.20</td>\n",
              "    </tr>\n",
              "    <tr>\n",
              "      <th>1418</th>\n",
              "      <td>964710</td>\n",
              "      <td>1975</td>\n",
              "      <td>9</td>\n",
              "      <td>8</td>\n",
              "      <td>1.97</td>\n",
              "    </tr>\n",
              "  </tbody>\n",
              "</table>\n",
              "</div>"
            ],
            "text/plain": [
              "      station_number  year  month  day  total_precipitation\n",
              "644           230220  1964      7   15                 5.91\n",
              "1155          985430  2008     12    8                 3.46\n",
              "1196          248260  1961     11    1                 2.95\n",
              "1588          257670  1959      8    9                 2.95\n",
              "980           299150  1962      3    1                 2.95\n",
              "1325          470250  1965     11   25                 2.95\n",
              "1917          288380  1994      8    6                 2.32\n",
              "1211          585190  1995      4   14                 2.32\n",
              "250           647000  2005      8   19                 2.20\n",
              "1418          964710  1975      9    8                 1.97"
            ]
          },
          "metadata": {
            "tags": []
          },
          "execution_count": 0
        }
      ]
    },
    {
      "cell_type": "markdown",
      "metadata": {
        "colab_type": "text",
        "id": "oKNxsRvuKtAz"
      },
      "source": [
        "# Use BigQuery through pandas-gbq\n",
        "\n",
        "The `pandas-gbq` library is a community led project by the pandas community. It covers basic functionality, such as writing a DataFrame to BigQuery and running a query, but as a third-party library it may not handle all BigQuery features or use cases.\n",
        "\n",
        "[Pandas GBQ Documentation](https://pandas.pydata.org/pandas-docs/stable/generated/pandas.read_gbq.html)"
      ]
    },
    {
      "cell_type": "code",
      "metadata": {
        "colab_type": "code",
        "id": "dWf7KIxjKtA0",
        "colab": {
          "base_uri": "https://localhost:8080/",
          "height": 348
        },
        "outputId": "9c530aba-bdc7-40a0-ddca-3e69a29bd021"
      },
      "source": [
        "import pandas as pd\n",
        "\n",
        "df = pd.io.gbq.read_gbq('''\n",
        "  SELECT *  FROM `fp_ia.fp_ia_chot_doc_main`\n",
        "''', project_id=project_id, dialect='standard')\n",
        "\n",
        "df.head() #print top 5"
      ],
      "execution_count": null,
      "outputs": [
        {
          "output_type": "execute_result",
          "data": {
            "application/vnd.google.colaboratory.module+javascript": "\n      import \"https://ssl.gstatic.com/colaboratory/data_table/a6224c040fa35dcf/data_table.js\";\n\n      window.createDataTable({\n        data: [[{\n            'v': 0,\n            'f': \"0\",\n        },\n\"CHOT-120620-431-2211\",\n\"2020-06-12 00:00:00\",\n\"2020-06-12 16:06:08+00:00\",\n{\n            'v': 2211,\n            'f': \"2211\",\n        },\n\"431\",\n\"Compassvale Link\",\n\"21989\",\n\"NG SIEW HONG\",\n{\n            'v': 2,\n            'f': \"2\",\n        },\n{\n            'v': \"7.95\",\n            'f': \"\\\"7.95\\\"\",\n        },\n\"Open\",\n{\n            'v': null,\n            'f': \"null\",\n        },\n{\n            'v': null,\n            'f': \"null\",\n        },\n{\n            'v': null,\n            'f': \"null\",\n        },\n{\n            'v': null,\n            'f': \"null\",\n        }],\n [{\n            'v': 1,\n            'f': \"1\",\n        },\n\"CHOT-120620-431-2250\",\n\"2020-06-12 00:00:00\",\n\"2020-06-12 17:16:45+00:00\",\n{\n            'v': 2250,\n            'f': \"2250\",\n        },\n\"431\",\n\"Compassvale Link\",\n\"21989\",\n\"NG SIEW HONG\",\n{\n            'v': 2,\n            'f': \"2\",\n        },\n{\n            'v': \"-7.95\",\n            'f': \"\\\"-7.95\\\"\",\n        },\n\"Open\",\n{\n            'v': null,\n            'f': \"null\",\n        },\n{\n            'v': null,\n            'f': \"null\",\n        },\n{\n            'v': null,\n            'f': \"null\",\n        },\n{\n            'v': null,\n            'f': \"null\",\n        }],\n [{\n            'v': 2,\n            'f': \"2\",\n        },\n\"CHOT-230520-363-6489\",\n\"2020-05-23 00:00:00\",\n\"2020-05-23 07:06:17+00:00\",\n{\n            'v': 6489,\n            'f': \"6489\",\n        },\n\"363\",\n\"Taman Jurong\",\n\"1060432\",\n\"GOH WEI ZHAO\",\n{\n            'v': 4,\n            'f': \"4\",\n        },\n{\n            'v': \"16\",\n            'f': \"\\\"16\\\"\",\n        },\n\"Open\",\n{\n            'v': null,\n            'f': \"null\",\n        },\n{\n            'v': null,\n            'f': \"null\",\n        },\n{\n            'v': null,\n            'f': \"null\",\n        },\n{\n            'v': null,\n            'f': \"null\",\n        }],\n [{\n            'v': 3,\n            'f': \"3\",\n        },\n\"CHOT-220520-363-9058\",\n\"2020-05-22 00:00:00\",\n\"2020-05-22 08:52:56+00:00\",\n{\n            'v': 9058,\n            'f': \"9058\",\n        },\n\"363\",\n\"Taman Jurong\",\n\"1060432\",\n\"GOH WEI ZHAO\",\n{\n            'v': 1,\n            'f': \"1\",\n        },\n{\n            'v': \"79.7\",\n            'f': \"\\\"79.7\\\"\",\n        },\n\"Open\",\n{\n            'v': null,\n            'f': \"null\",\n        },\n{\n            'v': null,\n            'f': \"null\",\n        },\n{\n            'v': null,\n            'f': \"null\",\n        },\n{\n            'v': null,\n            'f': \"null\",\n        }],\n [{\n            'v': 4,\n            'f': \"4\",\n        },\n\"CHOT-220520-363-9146\",\n\"2020-05-22 00:00:00\",\n\"2020-05-22 10:59:51+00:00\",\n{\n            'v': 9146,\n            'f': \"9146\",\n        },\n\"363\",\n\"Taman Jurong\",\n\"1060432\",\n\"GOH WEI ZHAO\",\n{\n            'v': 1,\n            'f': \"1\",\n        },\n{\n            'v': \"24.8\",\n            'f': \"\\\"24.8\\\"\",\n        },\n\"Open\",\n{\n            'v': null,\n            'f': \"null\",\n        },\n{\n            'v': null,\n            'f': \"null\",\n        },\n{\n            'v': null,\n            'f': \"null\",\n        },\n{\n            'v': null,\n            'f': \"null\",\n        }]],\n        columns: [[\"number\", \"index\"], [\"string\", \"doc_ref\"], [\"string\", \"business_date\"], [\"string\", \"transaction_date\"], [\"number\", \"transaction_num\"], [\"string\", \"store_id\"], [\"string\", \"store_name\"], [\"string\", \"cashier_emp_id\"], [\"string\", \"cashier_name\"], [\"number\", \"pos_number\"], [\"number\", \"purchase_amt\"], [\"string\", \"doc_status\"], [\"number\", \"finding\"], [\"number\", \"action_taken\"], [\"number\", \"remarks\"], [\"number\", \"ia_remarks\"]],\n        columnOptions: [{\"width\": \"1px\", \"className\": \"index_column\"}],\n        rowsPerPage: 25,\n        helpUrl: \"https://colab.research.google.com/notebooks/data_table.ipynb\",\n        suppressOutputScrolling: true,\n        minimumWidth: undefined,\n      });\n    ",
            "text/html": [
              "<div>\n",
              "<style scoped>\n",
              "    .dataframe tbody tr th:only-of-type {\n",
              "        vertical-align: middle;\n",
              "    }\n",
              "\n",
              "    .dataframe tbody tr th {\n",
              "        vertical-align: top;\n",
              "    }\n",
              "\n",
              "    .dataframe thead th {\n",
              "        text-align: right;\n",
              "    }\n",
              "</style>\n",
              "<table border=\"1\" class=\"dataframe\">\n",
              "  <thead>\n",
              "    <tr style=\"text-align: right;\">\n",
              "      <th></th>\n",
              "      <th>doc_ref</th>\n",
              "      <th>business_date</th>\n",
              "      <th>transaction_date</th>\n",
              "      <th>transaction_num</th>\n",
              "      <th>store_id</th>\n",
              "      <th>store_name</th>\n",
              "      <th>cashier_emp_id</th>\n",
              "      <th>cashier_name</th>\n",
              "      <th>pos_number</th>\n",
              "      <th>purchase_amt</th>\n",
              "      <th>doc_status</th>\n",
              "      <th>finding</th>\n",
              "      <th>action_taken</th>\n",
              "      <th>remarks</th>\n",
              "      <th>ia_remarks</th>\n",
              "    </tr>\n",
              "  </thead>\n",
              "  <tbody>\n",
              "    <tr>\n",
              "      <th>0</th>\n",
              "      <td>CHOT-120620-431-2211</td>\n",
              "      <td>2020-06-12</td>\n",
              "      <td>2020-06-12 16:06:08+00:00</td>\n",
              "      <td>2211</td>\n",
              "      <td>431</td>\n",
              "      <td>Compassvale Link</td>\n",
              "      <td>21989</td>\n",
              "      <td>NG SIEW HONG</td>\n",
              "      <td>2</td>\n",
              "      <td>7.95</td>\n",
              "      <td>Open</td>\n",
              "      <td>None</td>\n",
              "      <td>None</td>\n",
              "      <td>None</td>\n",
              "      <td>None</td>\n",
              "    </tr>\n",
              "    <tr>\n",
              "      <th>1</th>\n",
              "      <td>CHOT-120620-431-2250</td>\n",
              "      <td>2020-06-12</td>\n",
              "      <td>2020-06-12 17:16:45+00:00</td>\n",
              "      <td>2250</td>\n",
              "      <td>431</td>\n",
              "      <td>Compassvale Link</td>\n",
              "      <td>21989</td>\n",
              "      <td>NG SIEW HONG</td>\n",
              "      <td>2</td>\n",
              "      <td>-7.95</td>\n",
              "      <td>Open</td>\n",
              "      <td>None</td>\n",
              "      <td>None</td>\n",
              "      <td>None</td>\n",
              "      <td>None</td>\n",
              "    </tr>\n",
              "    <tr>\n",
              "      <th>2</th>\n",
              "      <td>CHOT-230520-363-6489</td>\n",
              "      <td>2020-05-23</td>\n",
              "      <td>2020-05-23 07:06:17+00:00</td>\n",
              "      <td>6489</td>\n",
              "      <td>363</td>\n",
              "      <td>Taman Jurong</td>\n",
              "      <td>1060432</td>\n",
              "      <td>GOH WEI ZHAO</td>\n",
              "      <td>4</td>\n",
              "      <td>16</td>\n",
              "      <td>Open</td>\n",
              "      <td>None</td>\n",
              "      <td>None</td>\n",
              "      <td>None</td>\n",
              "      <td>None</td>\n",
              "    </tr>\n",
              "    <tr>\n",
              "      <th>3</th>\n",
              "      <td>CHOT-220520-363-9058</td>\n",
              "      <td>2020-05-22</td>\n",
              "      <td>2020-05-22 08:52:56+00:00</td>\n",
              "      <td>9058</td>\n",
              "      <td>363</td>\n",
              "      <td>Taman Jurong</td>\n",
              "      <td>1060432</td>\n",
              "      <td>GOH WEI ZHAO</td>\n",
              "      <td>1</td>\n",
              "      <td>79.7</td>\n",
              "      <td>Open</td>\n",
              "      <td>None</td>\n",
              "      <td>None</td>\n",
              "      <td>None</td>\n",
              "      <td>None</td>\n",
              "    </tr>\n",
              "    <tr>\n",
              "      <th>4</th>\n",
              "      <td>CHOT-220520-363-9146</td>\n",
              "      <td>2020-05-22</td>\n",
              "      <td>2020-05-22 10:59:51+00:00</td>\n",
              "      <td>9146</td>\n",
              "      <td>363</td>\n",
              "      <td>Taman Jurong</td>\n",
              "      <td>1060432</td>\n",
              "      <td>GOH WEI ZHAO</td>\n",
              "      <td>1</td>\n",
              "      <td>24.8</td>\n",
              "      <td>Open</td>\n",
              "      <td>None</td>\n",
              "      <td>None</td>\n",
              "      <td>None</td>\n",
              "      <td>None</td>\n",
              "    </tr>\n",
              "  </tbody>\n",
              "</table>\n",
              "</div>"
            ],
            "text/plain": [
              "                doc_ref business_date  ... remarks  ia_remarks\n",
              "0  CHOT-120620-431-2211    2020-06-12  ...    None        None\n",
              "1  CHOT-120620-431-2250    2020-06-12  ...    None        None\n",
              "2  CHOT-230520-363-6489    2020-05-23  ...    None        None\n",
              "3  CHOT-220520-363-9058    2020-05-22  ...    None        None\n",
              "4  CHOT-220520-363-9146    2020-05-22  ...    None        None\n",
              "\n",
              "[5 rows x 15 columns]"
            ]
          },
          "metadata": {
            "tags": []
          },
          "execution_count": 19
        }
      ]
    }
  ]
}